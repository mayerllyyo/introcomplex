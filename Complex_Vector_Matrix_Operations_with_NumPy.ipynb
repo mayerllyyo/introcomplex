{
 "cells": [
  {
   "cell_type": "raw",
   "id": "169f7d2d-6efe-4ee3-8b66-ecc7300eeb38",
   "metadata": {},
   "source": [
    "# Theory of Complex Vector Spaces\n",
    "Complex vector spaces extend the idea of real vector spaces by allowing vectors to have complex numbers as their components. In these spaces, vectors can be added together and multiplied by complex scalars to produce new vectors. Key operations in complex vector spaces include vector addition, scalar multiplication, vector negation, and complex conjugation."
   ]
  },
  {
   "cell_type": "raw",
   "id": "e418cc18-595e-47bd-a9cf-4af0fbbba6b3",
   "metadata": {},
   "source": [
    "# Creating complex column vectors"
   ]
  },
  {
   "cell_type": "code",
   "execution_count": null,
   "id": "029f08ba-1cdc-4928-9631-f62c51ab7aa5",
   "metadata": {},
   "outputs": [],
   "source": [
    "import numpy as np\n",
    "\n",
    "# Define a 2x2 square matrix\n",
    "matrix = np.array([[2, 3],\n",
    "                   [1, 4]])\n",
    "\n",
    "# Define a vector of size 2\n",
    "vector = np.array([5, 6])\n",
    "\n",
    "# Multiply the matrix by the vector\n",
    "result = np.dot(matrix, vector)\n",
    "\n",
    "# Display the result\n",
    "print(\"Matrix:\\n\", matrix)\n",
    "print(\"\\nVector:\\n\", vector)\n",
    "print(\"\\nResult of multiplication:\\n\", result)\n"
   ]
  },
  {
   "cell_type": "markdown",
   "id": "975c2284",
   "metadata": {},
   "source": [
    "## Manipulating Complex Column Vectors using NumPy\n",
    "Here we demonstrate how to manipulate complex column vectors using NumPy, including operations like sum, negation, multiplication by a scalar, transpose, adjunct, and conjugate."
   ]
  },
  {
   "cell_type": "code",
   "execution_count": 1,
   "id": "e8058abe",
   "metadata": {},
   "outputs": [
    {
     "data": {
      "text/plain": [
       "(array([[3.+2.j],\n",
       "        [8.-2.j],\n",
       "        [5.-3.j]]),\n",
       " array([[-2.-3.j],\n",
       "        [-5.+4.j],\n",
       "        [-1.-1.j]]),\n",
       " array([[ 1.+8.j],\n",
       "        [14.-3.j],\n",
       "        [ 1.+3.j]]),\n",
       " array([[2.+3.j, 5.-4.j, 1.+1.j]]),\n",
       " array([[2.-3.j, 5.+4.j, 1.-1.j]]),\n",
       " array([[2.-3.j],\n",
       "        [5.+4.j],\n",
       "        [1.-1.j]]))"
      ]
     },
     "execution_count": 1,
     "metadata": {},
     "output_type": "execute_result"
    }
   ],
   "source": [
    "\n",
    "import numpy as np\n",
    "\n",
    "# Define two complex column vectors\n",
    "v1 = np.array([[2+3j], [5-4j], [1+1j]])\n",
    "v2 = np.array([[1-1j], [3+2j], [4-4j]])\n",
    "\n",
    "# Sum\n",
    "sum_v = v1 + v2\n",
    "\n",
    "# Negation\n",
    "neg_v1 = -v1\n",
    "\n",
    "# Multiplication by a scalar\n",
    "scalar = 2 + 1j\n",
    "mult_v1 = v1 * scalar\n",
    "\n",
    "# Transpose\n",
    "transpose_v1 = v1.T\n",
    "\n",
    "# Adjunct (Conjugate transpose)\n",
    "adjunct_v1 = v1.T.conj()\n",
    "\n",
    "# Conjugate\n",
    "conjugate_v1 = np.conjugate(v1)\n",
    "\n",
    "(sum_v, neg_v1, mult_v1, transpose_v1, adjunct_v1, conjugate_v1)\n"
   ]
  },
  {
   "cell_type": "markdown",
   "id": "995ae5fc",
   "metadata": {},
   "source": [
    "# Theory of Vector Spaces using Matrices\n",
    "In the context of matrices, vector spaces can be defined where each vector is a matrix of a particular size. Operations on these matrix-vector spaces include matrix addition, scalar multiplication, matrix negation, transpose, adjunct, and conjugate. In this section, we focus on square matrices of size 3x3."
   ]
  },
  {
   "cell_type": "markdown",
   "id": "9385c1f0",
   "metadata": {},
   "source": [
    "## Manipulating Square Matrices using NumPy\n",
    "Examples of how to manipulate 3x3 square matrices using NumPy, showing operations such as sum, negation, multiplication by a scalar, conjugate, transpose, and adjunct."
   ]
  },
  {
   "cell_type": "code",
   "execution_count": null,
   "id": "b81ecc57",
   "metadata": {},
   "outputs": [],
   "source": [
    "\n",
    "# Define two 3x3 complex matrices\n",
    "m1 = np.array([[2+3j, 4-1j, 0], \n",
    "               [1+1j, 3+3j, 5], \n",
    "               [4, 6-2j, 1-1j]])\n",
    "m2 = np.array([[1, 2+1j, 3-3j], \n",
    "               [0, -1+2j, 1-2j], \n",
    "               [3+3j, 2, 4+4j]])\n",
    "\n",
    "# Sum\n",
    "sum_m = m1 + m2\n",
    "\n",
    "# Negation\n",
    "neg_m1 = -m1\n",
    "\n",
    "# Multiplication by a scalar\n",
    "scalar = 0.5 + 0.5j\n",
    "mult_m1 = m1 * scalar\n",
    "\n",
    "# Conjugate\n",
    "conjugate_m1 = np.conjugate(m1)\n",
    "\n",
    "# Transpose\n",
    "transpose_m1 = m1.T\n",
    "\n",
    "# Adjunct (Conjugate transpose)\n",
    "adjunct_m1 = m1.T.conj()\n",
    "\n",
    "(sum_m, neg_m1, mult_m1, conjugate_m1, transpose_m1, adjunct_m1)\n"
   ]
  },
  {
   "cell_type": "markdown",
   "id": "ed909545-8a5c-4cca-85f7-48688b597598",
   "metadata": {},
   "source": [
    "## Checking the Dimension of a Matrix\n",
    "We can check the dimension of a matrix using the `.shape` attribute."
   ]
  },
  {
   "cell_type": "code",
   "execution_count": null,
   "id": "0930dc10-af6d-427f-bbcb-75bfaf051db5",
   "metadata": {},
   "outputs": [],
   "source": [
    "# Checking the dimension of matrix1\n",
    "m1.shape"
   ]
  },
  {
   "cell_type": "markdown",
   "id": "b3fe896b",
   "metadata": {},
   "source": [
    "## Action of a Matrix on a Vector\n",
    "Finally, examples of how to use Python to multiply a 3x3 square matrix by a 3x1 column vector."
   ]
  },
  {
   "cell_type": "code",
   "execution_count": null,
   "id": "e514d047",
   "metadata": {},
   "outputs": [],
   "source": [
    "\n",
    "# Multiplying a 3x3 matrix by a 3x1 vector\n",
    "result = np.dot(m1, v1)\n",
    "result\n"
   ]
  },
  {
   "cell_type": "code",
   "execution_count": null,
   "id": "fc106a7e-b32c-4e1a-b763-1e74ba6184ee",
   "metadata": {},
   "outputs": [],
   "source": [
    "# Exercises on Complex Vectors and Matrices with Concrete Cases\n",
    "\n",
    "This set of exercises focuses on operations with complex column vectors and complex square matrices, including concrete cases with vectors and matrices written in LaTeX format.\n",
    "\n",
    "## Complex Column Vector Operations\n",
    "\n",
    "### Exercise 1: Sum of Two Complex Vectors\n",
    "Given two complex vectors \n",
    "$$ v1 = \\begin{bmatrix} 1 + 2i \\\\ 3 - i \\end{bmatrix} $$ \n",
    "and \n",
    "$$ v2 = \\begin{bmatrix} 2 - i \\\\ 4 + 2i \\end{bmatrix} $$, \n",
    "find their sum.\n",
    "\n",
    "### Exercise 2: Negation of a Complex Vector\n",
    "Given a complex vector \n",
    "$$ v = \\begin{bmatrix} 2 + 3i \\\\ 1 - 2i \\end{bmatrix} $$, \n",
    "find its negation.\n",
    "\n",
    "### Exercise 3: Multiplication of a Complex Vector by a Scalar\n",
    "Multiply the complex vector \n",
    "$$ v = \\begin{bmatrix} 1 - i \\\\ 2 + 2i \\end{bmatrix} $$ \n",
    "by the complex scalar $$ 3 + i $$.\n",
    "\n",
    "### Exercise 4: Transpose of a Complex Vector\n",
    "Find the transpose of the complex vector \n",
    "$$ v = \\begin{bmatrix} 2 - i \\\\ 3 + 4i \\end{bmatrix} $$.\n",
    "\n",
    "### Exercise 5: Conjugate of a Complex Vector\n",
    "Compute the conjugate of the complex vector \n",
    "$$ v = \\begin{bmatrix} 1 + i \\\\ 2 - 3i \\end{bmatrix} $$.\n",
    "\n",
    "### Exercise 6: Adjunct (Conjugate Transpose) of a Complex Vector\n",
    "Find the adjunct (or conjugate transpose) of the complex vector \n",
    "$$ v = \\begin{bmatrix} 1 - 2i \\\\ 3 + i \\end{bmatrix} $$.\n",
    "\n",
    "## Complex Square Matrix Operations\n",
    "\n",
    "### Exercise 7: Sum of Two Complex Matrices\n",
    "Given two complex matrices \n",
    "$$ m1 = \\begin{bmatrix} 1 + i & 2 - i \\\\ 3 + 2i & 4 \\end{bmatrix} $$ \n",
    "and \n",
    "$$ m2 = \\begin{bmatrix} 2 - 3i & 1 \\\\ i & 2 + 2i \\end{bmatrix} $$, \n",
    "calculate their sum.\n",
    "\n",
    "### Exercise 8: Negation of a Complex Matrix\n",
    "Find the negation of the complex matrix \n",
    "$$ m = \\begin{bmatrix} 2 + i & 3 \\\\ 1 - i & 2 + 2i \\end{bmatrix} $$.\n",
    "\n",
    "### Exercise 9: Multiplication of a Complex Matrix by a Scalar\n",
    "Multiply the complex matrix \n",
    "$$ m = \\begin{bmatrix} 1 - i & 2 \\\\ 3 + i & 4 - 2i \\end{bmatrix} $$ \n",
    "by the complex scalar $$ 2 + 3i $$.\n",
    "\n",
    "### Exercise 10: Conjugate of a Complex Matrix\n",
    "Compute the conjugate of the complex matrix \n",
    "$$ m = \\begin{bmatrix} 1 + i & 2 \\\\ 3 - i & 4 + 2i \\end{bmatrix} $$.\n",
    "\n",
    "### Exercise 11: Transpose of a Complex Matrix\n",
    "Find the transpose of the complex matrix \n",
    "$$ m = \\begin{bmatrix} 1 - i & 2 + 2i \\\\ 3 & 4 - i \\end{bmatrix} $$.\n",
    "\n",
    "### Exercise 12: Adjunct (Conjugate Transpose) of a Complex Matrix\n",
    "Calculate the adjunct (or conjugate transpose) of the complex matrix \n",
    "$$ m = \\begin{bmatrix} 1 + 2i & 3 - i \\\\ 4 & 5 + i \\end{bmatrix} $$.\n",
    "\n",
    "### Exercise 13: Checking the Dimensions of a Matrix\n",
    "Determine the dimensions of the complex matrix \n",
    "$$ m = \\begin{bmatrix} 1 - i & 2 \\\\ 3 + 2i & 4 - i \\end{bmatrix} $$.\n",
    "\n",
    "## Multiplication of Matrices and Vectors\n",
    "\n",
    "### Exercise 14: Multiplying a Complex Square Matrix by a Complex Column Vector\n",
    "Multiply the complex square matrix \n",
    "$$ m = \\begin{bmatrix} 1 + i & 2 - i \\\\ 3 & 4 + i \\end{bmatrix} $$ \n",
    "by the complex column vector \n",
    "$$ v = \\begin{bmatrix} 2 - i \\\\ 1 + 3i \\end{bmatrix} $$.\n",
    "\n",
    "## Instructions\n",
    "For each exercise, ensure to display both the input (vectors/matrices) and the result of the operation.Use NumPy for these exercises to practice handling complex numbers and matrix operations in Python.\n"
   ]
  },
  {
   "cell_type": "code",
   "execution_count": null,
   "id": "1c013416-c7f2-4b00-9720-184ed7531583",
   "metadata": {},
   "outputs": [],
   "source": [
    "# Answers\n",
    "### Exercise 1: Sum of Two Complex Vectors\n",
    "Given two complex vectors \n",
    "$$ v1 = \\begin{bmatrix} 1 + 2i \\\\ 3 - i \\end{bmatrix} $$ \n",
    "and \n",
    "$$ v2 = \\begin{bmatrix} 2 - i \\\\ 4 + 2i \\end{bmatrix} $$, \n",
    "find their sum."
   ]
  },
  {
   "cell_type": "code",
   "execution_count": 31,
   "id": "2940ac6b-87b6-4423-aa76-4836867da876",
   "metadata": {},
   "outputs": [
    {
     "name": "stdout",
     "output_type": "stream",
     "text": [
      "v1 = [[1.+2.j]\n",
      " [3.-1.j]]\n",
      "v2 = [[2.-1.j]\n",
      " [4.+2.j]]\n",
      "v1 + v2 = [[3.+1.j]\n",
      " [7.+1.j]]\n"
     ]
    }
   ],
   "source": [
    "\n",
    "v1 = np.array([[1+2j], [3-1j]])\n",
    "v2 = np.array([[2-1j], [4+2j]])\n",
    "\n",
    "print(\"v1 =\", v1)\n",
    "print(\"v2 =\", v2)\n",
    "\n",
    "suma_v = v1 + v2\n",
    "print(\"v1 + v2 =\", suma_v)\n"
   ]
  },
  {
   "cell_type": "markdown",
   "id": "6d41d1d5-65b7-4885-aabb-3d7368ad4725",
   "metadata": {},
   "source": [
    "### Exercise 2: Negation of a Complex Vector\n",
    "Given a complex vector \n",
    "$$ v = \\begin{bmatrix} 2 + 3i \\\\ 1 - 2i \\end{bmatrix} $$, \n",
    "find its negation."
   ]
  },
  {
   "cell_type": "code",
   "execution_count": 33,
   "id": "77235ea1-c9e9-462b-91f1-8055aba7ddc4",
   "metadata": {},
   "outputs": [
    {
     "name": "stdout",
     "output_type": "stream",
     "text": [
      "[[2.+3.j]\n",
      " [1.-2.j]]\n",
      "-v1 = [[-2.-3.j]\n",
      " [-1.+2.j]]\n"
     ]
    }
   ],
   "source": [
    "v1 = np.array([[2+3j],[1-2j]])\n",
    "print(v1)\n",
    "neg = -v1\n",
    "print(\"-v1 =\", neg)"
   ]
  },
  {
   "cell_type": "markdown",
   "id": "83659978-4c77-4793-be90-bb4829661de7",
   "metadata": {},
   "source": [
    "### Exercise 3: Multiplication of a Complex Vector by a Scalar\n",
    "Multiply the complex vector \n",
    "$$ v = \\begin{bmatrix} 1 - i \\\\ 2 + 2i \\end{bmatrix} $$ \n",
    "by the complex scalar $$ 3 + i $$."
   ]
  },
  {
   "cell_type": "code",
   "execution_count": 42,
   "id": "c8b34bdb-e1c6-4e37-b8ea-15717ec09f3e",
   "metadata": {},
   "outputs": [
    {
     "name": "stdout",
     "output_type": "stream",
     "text": [
      "v1 = [[1.-1.j]\n",
      " [2.+2.j]]\n",
      "scalar = (3+1j)\n",
      "v1 * scalar = [[4.-2.j]\n",
      " [4.+8.j]]\n"
     ]
    }
   ],
   "source": [
    "v1 = np.array([[1-1j], [2+2j]])\n",
    "scalar = 3 + 1j\n",
    "mult_m1 = v1 * scalar\n",
    "\n",
    "print(\"v1 =\", v1)\n",
    "print(\"scalar =\", scalar)\n",
    "print(\"v1 * scalar =\", mult_m1)"
   ]
  },
  {
   "cell_type": "code",
   "execution_count": null,
   "id": "8d05bddb-1ffa-48f8-889b-7ad2947eebea",
   "metadata": {},
   "outputs": [],
   "source": [
    "### Exercise 4: Transpose of a Complex Vector\n",
    "Find the transpose of the complex vector \n",
    "$$ v = \\begin{bmatrix} 2 - i \\\\ 3 + 4i \\end{bmatrix} $$."
   ]
  },
  {
   "cell_type": "code",
   "execution_count": 46,
   "id": "8c4c5118-95bf-4b20-bd32-3a9f641dff29",
   "metadata": {},
   "outputs": [
    {
     "name": "stdout",
     "output_type": "stream",
     "text": [
      "v1 = [[2.-1.j]\n",
      " [3.+4.j]]\n",
      "transpose [[2.-1.j 3.+4.j]]\n"
     ]
    }
   ],
   "source": [
    "v1 = np.array([[2-1j], [3+4j]])\n",
    "print(\"v1 =\",v1)\n",
    "transpose_v1 = v1.T\n",
    "print(\"transpose =\",transpose_v1)"
   ]
  },
  {
   "cell_type": "code",
   "execution_count": null,
   "id": "21c1df08-dad4-416a-be7b-43b41ebda7ee",
   "metadata": {},
   "outputs": [],
   "source": [
    "### Exercise 5: Conjugate of a Complex Vector\n",
    "Compute the conjugate of the complex vector \n",
    "$$ v = \\begin{bmatrix} 1 + i \\\\ 2 - 3i \\end{bmatrix} $$."
   ]
  },
  {
   "cell_type": "code",
   "execution_count": 47,
   "id": "564a4376-5986-4db1-87a0-577eff093c2f",
   "metadata": {},
   "outputs": [
    {
     "name": "stdout",
     "output_type": "stream",
     "text": [
      "v1 = [[1.-1.j]\n",
      " [2.-3.j]]\n",
      "conjugate [[1.+1.j]\n",
      " [2.-2.j]]\n"
     ]
    }
   ],
   "source": [
    "v1 = np.array([[1-1j], [2-3j]])\n",
    "print(\"v1 =\",v1)\n",
    "conjugate_m1 = np.conjugate(m1)\n",
    "print(\"conjugate\",conjugate_m1)"
   ]
  },
  {
   "cell_type": "code",
   "execution_count": null,
   "id": "784ce350-0614-4ede-ac75-55174f4faadc",
   "metadata": {},
   "outputs": [],
   "source": [
    "### Exercise 6: Adjunct (Conjugate Transpose) of a Complex Vector\n",
    "Find the adjunct (or conjugate transpose) of the complex vector \n",
    "$$ v = \\begin{bmatrix} 1 - 2i \\\\ 3 + i \\end{bmatrix} $$."
   ]
  },
  {
   "cell_type": "code",
   "execution_count": 51,
   "id": "8cf3b464-69a0-4dbd-b1dc-85bbaa37fc1d",
   "metadata": {},
   "outputs": [
    {
     "name": "stdout",
     "output_type": "stream",
     "text": [
      "[[1.-2.j]\n",
      " [3.+1.j]]\n",
      "Conjugate Transpose (Adjunct):\n",
      "[[1.+2.j 3.-1.j]]\n"
     ]
    }
   ],
   "source": [
    "v1 = np.array([[1-2j], [3+1j]])\n",
    "\n",
    "# Conjugate Transpose (Adjunct)\n",
    "adjunct_m1 = np.conjugate(v1.T)\n",
    "\n",
    "print(v1)\n",
    "\n",
    "print(\"Conjugate Transpose (Adjunct):\")\n",
    "print(adjunct_m1)\n"
   ]
  },
  {
   "cell_type": "markdown",
   "id": "73127dbd-ff49-4e59-9161-8f90f13bdb9d",
   "metadata": {},
   "source": [
    "### Exercise 7: Sum of Two Complex Matrices\n",
    "Given two complex matrices \n",
    "$$ m1 = \\begin{bmatrix} 1 + i & 2 - i \\\\ 3 + 2i & 4 \\end{bmatrix} $$ \n",
    "and \n",
    "$$ m2 = \\begin{bmatrix} 2 - 3i & 1 \\\\ i & 2 + 2i \\end{bmatrix} $$, \n",
    "calculate their sum."
   ]
  },
  {
   "cell_type": "code",
   "execution_count": 66,
   "id": "6cac674f-c306-44f2-9884-29d17e66f0d4",
   "metadata": {},
   "outputs": [
    {
     "name": "stdout",
     "output_type": "stream",
     "text": [
      "m1:\n",
      " [[1.+1.j 2.-1.j]\n",
      " [3.+2.j 4.+0.j]]\n",
      "m2:\n",
      " [[2.-3.j 1.+0.j]\n",
      " [0.+1.j 2.+2.j]]\n",
      "m1 + m2 = [[3.-2.j 3.-1.j]\n",
      " [3.+3.j 6.+2.j]]\n"
     ]
    }
   ],
   "source": [
    "m1 = np.array([[1+1j, 2-1j],\n",
    "                   [3+2j, 4]])\n",
    "print(\"m1:\\n\", m1)\n",
    "m2 = np.array([[2-3j, 1],\n",
    "                   [1j, 2+2j]])\n",
    "print(\"m2:\\n\", m2)\n",
    "matrix = m1 + m2\n",
    "print(\"m1 + m2 =\",matrix)\n"
   ]
  },
  {
   "cell_type": "markdown",
   "id": "0ae4a1de-85fb-40f0-967c-693363d0f7b0",
   "metadata": {},
   "source": [
    "### Exercise 8: Negation of a Complex Matrix\n",
    "Find the negation of the complex matrix \n",
    "$$ m = \\begin{bmatrix} 2 + i & 3 \\\\ 1 - i & 2 + 2i \\end{bmatrix} $$."
   ]
  },
  {
   "cell_type": "code",
   "execution_count": 65,
   "id": "7f86237c-dac5-4e2b-8eec-88acb4e3f3e7",
   "metadata": {},
   "outputs": [
    {
     "name": "stdout",
     "output_type": "stream",
     "text": [
      "m1:\n",
      " [[1.+1.j 2.-1.j]\n",
      " [3.+2.j 4.+0.j]]\n",
      "Negation: [[-1.-1.j -2.+1.j]\n",
      " [-3.-2.j -4.-0.j]]\n"
     ]
    }
   ],
   "source": [
    "m1 = np.array([[1+1j, 2-1j],\n",
    "                   [3+2j, 4]])\n",
    "print(\"m1:\\n\", m1)\n",
    "neg_m1 = -m1\n",
    "print(\"Negation:\",neg_m1)"
   ]
  },
  {
   "cell_type": "code",
   "execution_count": null,
   "id": "cc7ee4c4-e03d-4cc5-b2d2-0dec9fe826d3",
   "metadata": {},
   "outputs": [],
   "source": []
  }
 ],
 "metadata": {
  "kernelspec": {
   "display_name": "Python 3 (ipykernel)",
   "language": "python",
   "name": "python3"
  },
  "language_info": {
   "codemirror_mode": {
    "name": "ipython",
    "version": 3
   },
   "file_extension": ".py",
   "mimetype": "text/x-python",
   "name": "python",
   "nbconvert_exporter": "python",
   "pygments_lexer": "ipython3",
   "version": "3.11.5"
  }
 },
 "nbformat": 4,
 "nbformat_minor": 5
}
