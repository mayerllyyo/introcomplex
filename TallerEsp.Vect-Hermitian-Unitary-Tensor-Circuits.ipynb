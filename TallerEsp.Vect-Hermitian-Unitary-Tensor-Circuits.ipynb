{
 "cells": [
  {
   "cell_type": "markdown",
   "id": "c7d4de9a-e7dc-4cf3-bd8d-7da869ceb9ac",
   "metadata": {},
   "source": [
    "# Hermitian Matrices, Unitary Matrices and Tensor Product"
   ]
  },
  {
   "cell_type": "markdown",
   "id": "007db568-62bf-4098-a52f-281b41db3012",
   "metadata": {},
   "source": [
    "\n",
    "# Understanding Complex Hermitian and Unitary Matrices\n",
    "\n",
    "This tutorial delves into two pivotal concepts in quantum computing and linear algebra: complex Hermitian and Unitary matrices. Both play critical roles in quantum mechanics and quantum computing, underpinning the behavior of quantum systems and the operations performed on them.\n",
    "\n",
    "## Objectives\n",
    "- Define and explore the properties of complex Hermitian matrices.\n",
    "- Understand and implement complex Unitary matrices in Python.\n",
    "- Highlight their significance and applications in quantum computing.\n",
    "\n",
    "Prepare to enhance your mathematical toolkit with these foundational concepts, illustrated with Python examples for a hands-on learning experience.\n"
   ]
  },
  {
   "cell_type": "markdown",
   "id": "172b4789-ccc2-41be-ae1b-fff456a76c41",
   "metadata": {},
   "source": [
    "\n",
    "## Complex Hermitian Matrices\n",
    "\n",
    "A Hermitian matrix, or self-adjoint matrix, is a square matrix that is equal to its own conjugate transpose. This property makes it a natural representation of observable quantities in quantum mechanics.\n",
    "\n",
    "### Properties\n",
    "- The eigenvalues of a Hermitian matrix are always real.\n",
    "- The eigenvectors of a Hermitian matrix corresponding to different eigenvalues are orthogonal.\n",
    "- Hermitian matrices are extensively used in quantum mechanics to describe physical observables.\n",
    "\n",
    "### Python Example: Defining a Hermitian Matrix\n"
   ]
  },
  {
   "cell_type": "code",
   "execution_count": 2,
   "id": "be7b7f14-c501-4fd9-a482-73f4acf8bfd9",
   "metadata": {},
   "outputs": [
    {
     "data": {
      "text/plain": [
       "(True,\n",
       " array([[2.+0.j, 2.-1.j],\n",
       "        [2.+1.j, 3.+0.j]]))"
      ]
     },
     "execution_count": 2,
     "metadata": {},
     "output_type": "execute_result"
    }
   ],
   "source": [
    "\n",
    "import numpy as np\n",
    "\n",
    "# Define a complex Hermitian matrix\n",
    "hermitian_matrix = np.array([[2+0j, 2-1j], [2+1j, 3+0j]])\n",
    "\n",
    "# Check if the matrix is Hermitian\n",
    "is_hermitian = np.allclose(hermitian_matrix, hermitian_matrix.conj().T)\n",
    "\n",
    "is_hermitian, hermitian_matrix\n"
   ]
  },
  {
   "cell_type": "markdown",
   "id": "6c6e41c4-7edb-46e0-b5a3-9dc381541312",
   "metadata": {},
   "source": [
    "\n",
    "## Complex Unitary Matrices\n",
    "\n",
    "A Unitary matrix is a square matrix whose conjugate transpose is also its inverse. Unitary matrices preserve the inner product, making them essential for describing quantum gates and evolution in quantum computing.\n",
    "\n",
    "### Properties\n",
    "- Preserves the norm of vectors, hence preserving quantum states during transformations.\n",
    "- The determinant of a Unitary matrix has an absolute value of 1.\n",
    "- Used to represent reversible quantum operations and time evolution in quantum systems.\n",
    "\n",
    "### Python Example: Defining a Unitary Matrix\n"
   ]
  },
  {
   "cell_type": "code",
   "execution_count": 3,
   "id": "72119954-9647-4f66-93e9-c014c05bb48c",
   "metadata": {},
   "outputs": [
    {
     "data": {
      "text/plain": [
       "(True,\n",
       " array([[ 0.70710678+0.j        ,  0.70710678+0.j        ],\n",
       "        [ 0.        +0.70710678j, -0.        -0.70710678j]]))"
      ]
     },
     "execution_count": 3,
     "metadata": {},
     "output_type": "execute_result"
    }
   ],
   "source": [
    "\n",
    "# Define a complex Unitary matrix\n",
    "unitary_matrix = np.array([[1/np.sqrt(2), 1/np.sqrt(2)], [1/np.sqrt(2)*1j, -1/np.sqrt(2)*1j]])\n",
    "\n",
    "# Check if the matrix is Unitary\n",
    "# np.eye(2) returns the identity of size 2x2\n",
    "is_unitary = np.allclose(np.dot(unitary_matrix, unitary_matrix.conj().T), np.eye(2))\n",
    "\n",
    "is_unitary, unitary_matrix\n"
   ]
  },
  {
   "cell_type": "markdown",
   "id": "85750bcf-34ab-49ab-9163-509b29e719c9",
   "metadata": {},
   "source": [
    "# Tensor product"
   ]
  },
  {
   "cell_type": "markdown",
   "id": "b85487ee-1d19-47ab-a0a7-e05c8b758b13",
   "metadata": {},
   "source": [
    "\n",
    "## Tensor Product for Complex Vectors\n",
    "\n",
    "The tensor product of two complex vectors creates a new vector in a higher-dimensional space, allowing us to combine quantum states in quantum computing.\n",
    "\n",
    "### Example\n"
   ]
  },
  {
   "cell_type": "code",
   "execution_count": 4,
   "id": "c4619aad-e04f-4787-a8ff-8e324f13b816",
   "metadata": {},
   "outputs": [
    {
     "data": {
      "text/plain": [
       "array([ -7.+16.j,  -9.+22.j,  -9.+38.j, -11.+52.j])"
      ]
     },
     "execution_count": 4,
     "metadata": {},
     "output_type": "execute_result"
    }
   ],
   "source": [
    "\n",
    "import numpy as np\n",
    "\n",
    "# Define two complex vectors for the tensor product\n",
    "v1 = np.array([1+2j, 3+4j])\n",
    "v2 = np.array([5+6j, 7+8j])\n",
    "\n",
    "# Calculate the tensor product\n",
    "tensor_product_v = np.kron(v1, v2)\n",
    "\n",
    "tensor_product_v\n"
   ]
  },
  {
   "cell_type": "markdown",
   "id": "aa89e379-8ce8-493d-8b0e-6461a7fc1325",
   "metadata": {},
   "source": [
    "\n",
    "## Tensor Product for Complex Matrices\n",
    "\n",
    "The tensor product for matrices combines individual matrices into a larger matrix, crucial for representing multiple qubit systems in quantum computing.\n",
    "\n",
    "### Example\n"
   ]
  },
  {
   "cell_type": "code",
   "execution_count": 5,
   "id": "c558e2f2-8ecf-466a-8fb4-469566157419",
   "metadata": {},
   "outputs": [
    {
     "data": {
      "text/plain": [
       "array([[-11. +28.j, -13. +34.j, -13. +66.j, -15. +80.j],\n",
       "       [-15. +40.j, -17. +46.j, -17. +94.j, -19.+108.j],\n",
       "       [-15.+104.j, -17.+126.j, -17.+142.j, -19.+172.j],\n",
       "       [-19.+148.j, -21.+170.j, -21.+202.j, -23.+232.j]])"
      ]
     },
     "execution_count": 5,
     "metadata": {},
     "output_type": "execute_result"
    }
   ],
   "source": [
    "\n",
    "# Define two complex matrices for the tensor product\n",
    "M1 = np.array([[1+2j, 3+4j], [5+6j, 7+8j]])\n",
    "M2 = np.array([[9+10j, 11+12j], [13+14j, 15+16j]])\n",
    "\n",
    "# Calculate the tensor product\n",
    "tensor_product_m = np.kron(M1, M2)\n",
    "\n",
    "tensor_product_m\n"
   ]
  },
  {
   "cell_type": "markdown",
   "id": "a8bf7ec5-285c-4ee2-8719-43e4186c431f",
   "metadata": {},
   "source": [
    "# Exercises on Complex Vector and Matrix Operations\n",
    "\n",
    "This set of exercises is designed to test your understanding of various concepts related to complex vector and matrix operations, which are foundational in quantum computing. Each exercise presents a concrete case for you to apply what you've learned about Hermitian matrices, Unitary matrices, and tensor products.\n",
    "\n",
    "NOTE: VERIFY YOUR COMPUTATIONS IN PAPER AND IN THE COMPUTER.\n",
    "\n",
    "## Exercise 1: Complex Hermitian Matrices\n",
    "\n",
    "Consider the matrix:\n",
    "\n",
    "$$ H = \\begin{bmatrix} 3 & 2+i \\\\ 2-i & 1 \\end{bmatrix} $$\n",
    "\n",
    "- Verify if $ H $ is a Hermitian matrix.\n",
    "- If it is, find its eigenvalues.\n",
    "\n",
    "## Exercise 2: Complex Unitary Matrices\n",
    "\n",
    "Consider the matrix:\n",
    "\n",
    "$$ U = \\frac{1}{\\sqrt{2}}\\begin{bmatrix} 1 & i \\\\ i & 1 \\end{bmatrix} $$\n",
    "\n",
    "- Verify if $ U $ is a Unitary matrix.\n",
    "- Compute $ UU^\\dagger $ to confirm its Unitarity, where $ U^\\dagger $ denotes the conjugate transpose of $ U $.\n",
    "\n",
    "## Exercise 3: Tensor Product for Complex Vectors\n",
    "\n",
    "Given the complex vectors:\n",
    "\n",
    "$$ \\mathbf{v} = \\begin{bmatrix} 1+i \\\\ 2-i \\end{bmatrix}, \\quad \\mathbf{w} = \\begin{bmatrix} 1-2i \\\\ 3 \\end{bmatrix} $$\n",
    "\n",
    "Calculate the tensor product $ \\mathbf{v} \\otimes \\mathbf{w} $.\n",
    "\n",
    "## Exercise 4: Tensor Product for Complex Matrices\n",
    "\n",
    "Given the matrices:\n",
    "\n",
    "$$ M_1 = \\begin{bmatrix} 0 & 1 \\\\ 1 & 0 \\end{bmatrix}, \\quad M_2 = \\begin{bmatrix} i & 0 \\\\ 0 & -i \\end{bmatrix} $$\n",
    "\n",
    "Calculate the tensor product $ M_1 \\otimes M_2 $.\n",
    "\n",
    "## Exercise 5: Modelling quantum computations with vectors and matrices\n",
    "\n",
    "Using matrices and vectors, implement a model of the Mach/Zehnder interferometer.\n",
    "\n",
    "![Mach-Zehnder interferometer](images/Mach-Zehnder-Interferometer.png)\n",
    "\n",
    "## Exercise 6: Composing quantum systems \n",
    "\n",
    "Using matrices and vectors, implement a model of the following circuit.\n",
    "\n",
    "![Mach-Zehnder interferometer](images/Deutsch-Algorithm.png)\n",
    "\n",
    "Use the following MAtrix for $U_f$:\n",
    "\n",
    "![Mach-Zehnder interferometer](images/ExampleUf.png)\n",
    "\n"
   ]
  },
  {
   "cell_type": "markdown",
   "id": "5d4b1eae-cdb0-45a7-9910-8ed4d02b929b",
   "metadata": {},
   "source": [
    "# ANSWERS"
   ]
  },
  {
   "cell_type": "markdown",
   "id": "1dfbaa72-668d-4c63-ab46-d4cc52259038",
   "metadata": {},
   "source": [
    "## Exercise 1: Complex Hermitian Matrices\n",
    "\n",
    "Consider the matrix:\n",
    "\n",
    "$$ H = \\begin{bmatrix} 3 & 2+i \\\\ 2-i & 1 \\end{bmatrix} $$\n",
    "\n",
    "- Verify if $ H $ is a Hermitian matrix.\n",
    "- If it is, find its eigenvalues."
   ]
  },
  {
   "cell_type": "code",
   "execution_count": 14,
   "id": "7f37a0fd-7a07-4080-9a7e-8c872021a176",
   "metadata": {},
   "outputs": [
    {
     "name": "stdout",
     "output_type": "stream",
     "text": [
      "The matrix H is Hermitian.\n",
      "Eigenvalues of H: [-0.44948974  4.44948974]\n"
     ]
    }
   ],
   "source": [
    "# Define the matrix H\n",
    "H = np.array([[3, 2+1j], [2-1j, 1]])\n",
    "\n",
    "# Check if H is Hermitian\n",
    "is_hermitian = np.allclose(H, H.conj().T)\n",
    "\n",
    "if is_hermitian:\n",
    "    print(\"The matrix H is Hermitian.\")\n",
    "    # Find eigenvalues if H is Hermitian\n",
    "    eigenvalues = np.linalg.eigvalsh(H)\n",
    "    print(\"Eigenvalues of H:\", eigenvalues)\n",
    "else:\n",
    "    print(\"The matrix H is not Hermitian.\")\n"
   ]
  },
  {
   "cell_type": "markdown",
   "id": "c65ef817-b373-4036-8da5-7a59b9e4646b",
   "metadata": {},
   "source": [
    "## Exercise 2: Complex Unitary Matrices\n",
    "\n",
    "Consider the matrix:\n",
    "\n",
    "$$ U = \\frac{1}{\\sqrt{2}}\\begin{bmatrix} 1 & i \\\\ i & 1 \\end{bmatrix} $$\n",
    "\n",
    "- Verify if $ U $ is a Unitary matrix.\n",
    "- Compute $ UU^\\dagger $ to confirm its Unitarity, where $ U^\\dagger $ denotes the conjugate transpose of $ U $.\n"
   ]
  },
  {
   "cell_type": "code",
   "execution_count": 15,
   "id": "d052db56-045b-490a-a68e-e38f3004c8a1",
   "metadata": {},
   "outputs": [
    {
     "name": "stdout",
     "output_type": "stream",
     "text": [
      "The matrix U is Unitary.\n",
      "UU†:\n",
      "[[1.+0.j 0.+0.j]\n",
      " [0.+0.j 1.+0.j]]\n"
     ]
    }
   ],
   "source": [
    "# Define the matrix U\n",
    "U = np.array([[1/np.sqrt(2), 1j/np.sqrt(2)], [1j/np.sqrt(2), 1/np.sqrt(2)]])\n",
    "\n",
    "# Check if U is Unitary\n",
    "is_unitary = np.allclose(np.dot(U, U.conj().T), np.eye(2))\n",
    "\n",
    "if is_unitary:\n",
    "    print(\"The matrix U is Unitary.\")\n",
    "else:\n",
    "    print(\"The matrix U is not Unitary.\")\n",
    "\n",
    "# Compute UU†\n",
    "UU_dagger = np.dot(U, U.conj().T)\n",
    "\n",
    "print(\"UU†:\")\n",
    "print(UU_dagger)\n"
   ]
  },
  {
   "cell_type": "markdown",
   "id": "3457968e-752d-4743-8fa1-c3226379a5e1",
   "metadata": {},
   "source": [
    "## Exercise 3: Tensor Product for Complex Vectors\n",
    "\n",
    "Given the complex vectors:\n",
    "\n",
    "$$ \\mathbf{v} = \\begin{bmatrix} 1+i \\\\ 2-i \\end{bmatrix}, \\quad \\mathbf{w} = \\begin{bmatrix} 1-2i \\\\ 3 \\end{bmatrix} $$\n",
    "\n",
    "Calculate the tensor product $ \\mathbf{v} \\otimes \\mathbf{w} $."
   ]
  },
  {
   "cell_type": "code",
   "execution_count": 9,
   "id": "eaf1002d-5287-4e29-aae6-ff5dffa99515",
   "metadata": {},
   "outputs": [
    {
     "name": "stdout",
     "output_type": "stream",
     "text": [
      "Tensor product v ⊗ w:\n",
      "[[3.-1.j 3.+3.j]\n",
      " [0.-5.j 6.-3.j]]\n"
     ]
    }
   ],
   "source": [
    "# Define the complex vectors v and w\n",
    "v = np.array([1+1j, 2-1j])\n",
    "w = np.array([1-2j, 3])\n",
    "\n",
    "# Compute the tensor product v ⊗ w\n",
    "tensor_product_vw = np.outer(v, w)\n",
    "\n",
    "print(\"Tensor product v ⊗ w:\")\n",
    "print(tensor_product_vw)\n"
   ]
  },
  {
   "cell_type": "markdown",
   "id": "f41b08ab-6727-40e2-a5f1-a9d6bdef6806",
   "metadata": {},
   "source": [
    "## Exercise 4: Tensor Product for Complex Matrices\n",
    "\n",
    "Given the matrices:\n",
    "\n",
    "$$ M_1 = \\begin{bmatrix} 0 & 1 \\\\ 1 & 0 \\end{bmatrix}, \\quad M_2 = \\begin{bmatrix} i & 0 \\\\ 0 & -i \\end{bmatrix} $$\n",
    "\n",
    "Calculate the tensor product $ M_1 \\otimes M_2 $."
   ]
  },
  {
   "cell_type": "code",
   "execution_count": 10,
   "id": "08b6c7b1-4995-44ab-ab36-63f9c70a51aa",
   "metadata": {},
   "outputs": [
    {
     "name": "stdout",
     "output_type": "stream",
     "text": [
      "Tensor product M1 ⊗ M2:\n",
      "[[0.+0.j 0.+0.j 0.+1.j 0.+0.j]\n",
      " [0.+0.j 0.-0.j 0.+0.j 0.-1.j]\n",
      " [0.+1.j 0.+0.j 0.+0.j 0.+0.j]\n",
      " [0.+0.j 0.-1.j 0.+0.j 0.-0.j]]\n"
     ]
    }
   ],
   "source": [
    "# Define the complex matrices M1 and M2\n",
    "M1 = np.array([[0, 1], [1, 0]])\n",
    "M2 = np.array([[1j, 0], [0, -1j]])\n",
    "\n",
    "# Compute the tensor product M1 ⊗ M2\n",
    "tensor_product_M1_M2 = np.kron(M1, M2)\n",
    "\n",
    "print(\"Tensor product M1 ⊗ M2:\")\n",
    "print(tensor_product_M1_M2)\n"
   ]
  },
  {
   "cell_type": "markdown",
   "id": "fcbb1f9d-743e-4948-b360-8948a87cad5a",
   "metadata": {},
   "source": [
    "## Exercise 5: Modelling quantum computations with vectors and matrices\n",
    "\n",
    "Using matrices and vectors, implement a model of the Mach/Zehnder interferometer.\n",
    "\n",
    "![Mach-Zehnder interferometer](images/Mach-Zehnder-Interferometer.png)"
   ]
  },
  {
   "cell_type": "code",
   "execution_count": null,
   "id": "c01c4006-b523-49e4-8237-893ae3bf00a3",
   "metadata": {},
   "outputs": [],
   "source": [
    "# Define the initial input state vector (|0>)\n",
    "input_state = np.array([1, 0])\n",
    "\n",
    "# Define the beamsplitter matrix (50/50 beamsplitter)\n",
    "beamsplitter_matrix = np.array([[1/np.sqrt(2), 1/np.sqrt(2)], [1/np.sqrt(2), -1/np.sqrt(2)]])\n",
    "\n",
    "# Define the phase shifter matrix (phase shift of pi/2)\n",
    "phase_shifter_matrix = np.array([[1, 0], [0, np.exp(1j * np.pi / 2)]])\n",
    "\n",
    "# Define the identity matrix (for representing absence of a component)\n",
    "identity_matrix = np.eye(2)\n",
    "\n",
    "# Define the components of the Mach-Zehnder interferometer\n",
    "# The interferometer consists of two beamsplitters and two phase shifters\n",
    "component1 = beamsplitter_matrix\n",
    "component2 = identity_matrix\n",
    "component3 = phase_shifter_matrix\n",
    "component4 = beamsplitter_matrix\n",
    "\n",
    "# Propagate the input state vector through each component\n",
    "output_state = np.dot(component4, np.dot(component3, np.dot(component2, np.dot(component1, input_state))))\n",
    "\n",
    "print(\"Output state vector after passing through the Mach-Zehnder interferometer:\")\n",
    "print(output_state)\n"
   ]
  },
  {
   "cell_type": "markdown",
   "id": "d028af97-6760-4efb-92bf-bf7a8658d6a9",
   "metadata": {},
   "source": [
    "## Exercise 6: Composing quantum systems \n",
    "\n",
    "Using matrices and vectors, implement a model of the following circuit.\n",
    "\n",
    "![Mach-Zehnder interferometer](images/Deutsch-Algorithm.png)\n",
    "\n",
    "Use the following MAtrix for $U_f$:\n",
    "\n",
    "![Mach-Zehnder interferometer](images/ExampleUf.png)\n"
   ]
  },
  {
   "cell_type": "code",
   "execution_count": 13,
   "id": "9701ab77-b5b8-460c-b657-67ccb7693ed1",
   "metadata": {},
   "outputs": [
    {
     "name": "stdout",
     "output_type": "stream",
     "text": [
      "Output state vector after passing through the circuit:\n",
      "[ 0.5  0.5 -0.5  0.5]\n"
     ]
    }
   ],
   "source": [
    "# Define the initial input state vector (|00>)\n",
    "input_state = np.array([1, 0, 0, 0])\n",
    "\n",
    "# Define the Hadamard gate matrix\n",
    "Hadamard_gate = 1 / np.sqrt(2) * np.array([[1, 1], [1, -1]])\n",
    "\n",
    "# Define the Oracle gate matrix (U_f)\n",
    "Uf_gate = np.array([[0, 1, 0, 0],\n",
    "                    [1, 0, 0, 0],\n",
    "                    [0, 0, 1, 0],\n",
    "                    [0, 0, 0, -1]])\n",
    "\n",
    "# Propagate the input state vector through the gates\n",
    "# Apply Hadamard gate to first qubit\n",
    "state_after_H = np.kron(Hadamard_gate, np.eye(2)) @ input_state\n",
    "\n",
    "# Apply the Oracle gate to both qubits\n",
    "state_after_Uf = Uf_gate @ state_after_H\n",
    "\n",
    "# Apply Hadamard gate to first qubit again\n",
    "state_after_second_H = np.kron(Hadamard_gate, np.eye(2)) @ state_after_Uf\n",
    "\n",
    "# The final state vector represents the output state\n",
    "output_state = state_after_second_H\n",
    "\n",
    "print(\"Output state vector after passing through the circuit:\")\n",
    "print(output_state)\n"
   ]
  },
  {
   "cell_type": "code",
   "execution_count": null,
   "id": "713c151b-a217-4ec8-bb8d-5b32717dde5d",
   "metadata": {},
   "outputs": [],
   "source": []
  }
 ],
 "metadata": {
  "kernelspec": {
   "display_name": "Python 3 (ipykernel)",
   "language": "python",
   "name": "python3"
  },
  "language_info": {
   "codemirror_mode": {
    "name": "ipython",
    "version": 3
   },
   "file_extension": ".py",
   "mimetype": "text/x-python",
   "name": "python",
   "nbconvert_exporter": "python",
   "pygments_lexer": "ipython3",
   "version": "3.11.5"
  }
 },
 "nbformat": 4,
 "nbformat_minor": 5
}
